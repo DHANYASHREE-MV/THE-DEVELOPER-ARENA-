{
 "cells": [
  {
   "cell_type": "code",
   "execution_count": 3,
   "id": "6ca6ff19-7035-4026-891b-1513e8743a68",
   "metadata": {},
   "outputs": [
    {
     "name": "stdout",
     "output_type": "stream",
     "text": [
      "   Strategy  Revenue\n",
      "0         A      210\n",
      "1         A      220\n",
      "2         A      230\n",
      "3         A      250\n",
      "4         A      245\n",
      "5         A      225\n",
      "6         A      240\n",
      "7         B      190\n",
      "8         B      200\n",
      "9         B      195\n",
      "10        B      205\n",
      "11        B      198\n",
      "12        B      202\n",
      "13        B      210\n",
      "\n",
      "Business Strategy T-Test:\n",
      "Strategy A Mean Revenue: 231.43\n",
      "Strategy B Mean Revenue: 200.0\n",
      "t-statistic: 5.27\n",
      "p-value: 0.0002\n",
      "✅ Significant difference: Strategy A is better.\n"
     ]
    }
   ],
   "source": [
    "import pandas as pd\n",
    "\n",
    "# Simulated revenue per day for each strategy\n",
    "data = {\n",
    "    'Strategy': ['A'] * 7 + ['B'] * 7,\n",
    "    'Revenue': [210, 220, 230, 250, 245, 225, 240,   # Strategy A\n",
    "                190, 200, 195, 205, 198, 202, 210]   # Strategy B\n",
    "}\n",
    "\n",
    "df = pd.DataFrame(data)\n",
    "print(df)\n",
    "# Separate groups\n",
    "group_a = df[df['Strategy'] == 'A']['Revenue']\n",
    "group_b = df[df['Strategy'] == 'B']['Revenue']\n",
    "\n",
    "# Perform t-test\n",
    "t_stat, p_val = stats.ttest_ind(group_a, group_b)\n",
    "print(\"\\nBusiness Strategy T-Test:\")\n",
    "print(\"Strategy A Mean Revenue:\", round(group_a.mean(), 2))\n",
    "print(\"Strategy B Mean Revenue:\", round(group_b.mean(), 2))\n",
    "print(\"t-statistic:\", round(t_stat, 3))\n",
    "print(\"p-value:\", round(p_val, 4))\n",
    "\n",
    "# Conclusion\n",
    "if p_val < 0.05:\n",
    "    print(\"✅ Significant difference: Strategy A is better.\")\n",
    "else:\n",
    "    print(\"❌ No significant difference between strategies.\")\n"
   ]
  },
  {
   "cell_type": "code",
   "execution_count": null,
   "id": "437dc998-e064-48b0-b3b9-c4a6e47d5d40",
   "metadata": {},
   "outputs": [],
   "source": []
  }
 ],
 "metadata": {
  "kernelspec": {
   "display_name": "Python 3 (ipykernel)",
   "language": "python",
   "name": "python3"
  },
  "language_info": {
   "codemirror_mode": {
    "name": "ipython",
    "version": 3
   },
   "file_extension": ".py",
   "mimetype": "text/x-python",
   "name": "python",
   "nbconvert_exporter": "python",
   "pygments_lexer": "ipython3",
   "version": "3.12.7"
  }
 },
 "nbformat": 4,
 "nbformat_minor": 5
}

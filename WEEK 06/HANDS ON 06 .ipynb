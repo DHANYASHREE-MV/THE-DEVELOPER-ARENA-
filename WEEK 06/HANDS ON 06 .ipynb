{
 "cells": [
  {
   "cell_type": "code",
   "execution_count": 2,
   "id": "4a7fd229-a3df-487b-ade2-8e86730d47af",
   "metadata": {},
   "outputs": [
    {
     "name": "stdout",
     "output_type": "stream",
     "text": [
      "Two-sample T-test:\n",
      "t-statistic = 2.833\n",
      "p-value = 0.0151\n",
      "\n",
      "Chi-squared Test:\n",
      "Chi2 = 4.32\n",
      "p-value = 0.0377\n"
     ]
    }
   ],
   "source": [
    "from scipy import stats\n",
    "\n",
    "# Two groups: customer satisfaction scores from two regions\n",
    "group_a = [60, 65, 68, 70, 72, 75, 78]\n",
    "group_b = [55, 58, 60, 62, 64, 66, 67]\n",
    "\n",
    "# Perform two-sample t-test\n",
    "t_stat, p_val = stats.ttest_ind(group_a, group_b)\n",
    "print(\"Two-sample T-test:\")\n",
    "print(\"t-statistic =\", round(t_stat, 3))\n",
    "print(\"p-value =\", round(p_val, 4))\n",
    "\n",
    "# Chi-squared test: Ad clicked (Yes/No) for 2 campaigns\n",
    "#        Clicked, Not Clicked\n",
    "observed = [[30, 10],    # Campaign A\n",
    "            [20, 20]]    # Campaign B\n",
    "\n",
    "chi2, p, dof, expected = stats.chi2_contingency(observed)\n",
    "print(\"\\nChi-squared Test:\")\n",
    "print(\"Chi2 =\", round(chi2, 2))\n",
    "print(\"p-value =\", round(p, 4))\n"
   ]
  },
  {
   "cell_type": "code",
   "execution_count": null,
   "id": "6ca6ff19-7035-4026-891b-1513e8743a68",
   "metadata": {},
   "outputs": [],
   "source": []
  }
 ],
 "metadata": {
  "kernelspec": {
   "display_name": "Python 3 (ipykernel)",
   "language": "python",
   "name": "python3"
  },
  "language_info": {
   "codemirror_mode": {
    "name": "ipython",
    "version": 3
   },
   "file_extension": ".py",
   "mimetype": "text/x-python",
   "name": "python",
   "nbconvert_exporter": "python",
   "pygments_lexer": "ipython3",
   "version": "3.12.7"
  }
 },
 "nbformat": 4,
 "nbformat_minor": 5
}
